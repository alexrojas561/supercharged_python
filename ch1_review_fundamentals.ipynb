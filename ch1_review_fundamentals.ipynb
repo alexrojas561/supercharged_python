{
 "cells": [
  {
   "cell_type": "markdown",
   "metadata": {},
   "source": [
    "# Chapter 1: Review of fundamentals\n",
    "- Quickly review over python fundamentals before carrying on with the \"supercharging\"\n",
    "- Be brief with the notes, only write what you do not know or highly important\n",
    "\n",
    "## 1.1 Python Quick Start\n",
    "- Think of variables as 'names' mapped to values\n",
    "- There are no data declarations, only assignments\n",
    "\n",
    "## 1.2 Variables and Naming Names\n",
    "- Names with leading underscores are intended to be private to a class\n",
    "\n",
    "## 1.4 Summary of Python Arithmetic Operators\n",
    "- // --> ground division\n",
    "- //= & %= have the same precedence as division and multiplication\n",
    "\n",
    "## 1.5 Elementary Data Types: Integer and Floating Point\n",
    "- Division always results in a floating-point result\n",
    "    - Need (//) to get an integer after dividing an integer with an integer\n",
    "    \n",
    "## 1.7 Function Definitions\n",
    "- Indentation should be 4 spaces when you have a choice\n",
    "\n",
    "## 1.11 Summary of Python Boolean Operators\n",
    "- (12 < age < 20) can be used instead of (age > 12 and age < 20) --> At least in Python 3.0\n",
    "- Logical 'not' has a low precedence as an operator\n",
    "\n",
    "## 1.12 Function Arguments and Return Values\n",
    "- Default arguments, if any, must come after all other arguments\n",
    "    - Assigned in a function definition\n",
    "- Named arguments, if used, must come at the end of the list of arguments\n",
    "    - Specified in a function call\n",
    "\n",
    "## 1.13 The Forward Reference Problem\n",
    "- Problem every programmer has to deal with\n",
    "- How to prevent it:\n",
    "    - Define all your functions before you call any of them\n",
    "    - At the end of the source file, put in your first module-level function call\n",
    "        - Module-level = code that is outside any function\n",
    "        \n",
    "## 1.14 Python Strings\n",
    "- Strings in python are immutable\n",
    "- There are no 'char' data type in python, just length 1 strings"
   ]
  },
  {
   "cell_type": "markdown",
   "metadata": {},
   "source": [
    "## 1.18 Dictionaries"
   ]
  },
  {
   "cell_type": "code",
   "execution_count": 58,
   "metadata": {
    "scrolled": true
   },
   "outputs": [
    {
     "name": "stdout",
     "output_type": "stream",
     "text": [
      "Enter a sentence to calculate its word frequency: Hello this is a test\n"
     ]
    },
    {
     "data": {
      "text/plain": [
       "<AxesSubplot:>"
      ]
     },
     "execution_count": 58,
     "metadata": {},
     "output_type": "execute_result"
    },
    {
     "data": {
      "image/png": "[encoded data removed]",
      "text/plain": [
       "<Figure size 432x288 with 1 Axes>"
      ]
     },
     "metadata": {
      "needs_background": "light"
     },
     "output_type": "display_data"
    }
   ],
   "source": [
    "s = input('Enter a sentence to calculate its word frequency: ').split()\n",
    "wrd_counter = {}\n",
    "for wrd in s:\n",
    "    wrd_counter[wrd] = wrd_counter.get(wrd, 0) + 1\n",
    "    \n",
    "import seaborn as sns\n",
    "sns.barplot(x = list(wrd_counter.keys()),y=list(wrd_counter.values()))\n"
   ]
  },
  {
   "cell_type": "markdown",
   "metadata": {},
   "source": [
    "## Chapter 1: Suggested Problems\n",
    "- Write a program that asks for name, age, addres and prints all info entered\n",
    "- Write a program that calculates volume, and prints answer"
   ]
  },
  {
   "cell_type": "code",
   "execution_count": 75,
   "metadata": {
    "scrolled": true
   },
   "outputs": [
    {
     "name": "stdout",
     "output_type": "stream",
     "text": [
      "Input your name, age, address: Alex, 26, street\n",
      "Alex, 26, street\n"
     ]
    }
   ],
   "source": [
    "# Problem 1\n",
    "def boring():\n",
    "    user_input = input('Input your name, age, address: ')\n",
    "    print(user_input)\n",
    "    \n",
    "boring()"
   ]
  },
  {
   "cell_type": "code",
   "execution_count": 76,
   "metadata": {},
   "outputs": [
    {
     "data": {
      "text/plain": [
       "4188.790204786391"
      ]
     },
     "execution_count": 76,
     "metadata": {},
     "output_type": "execute_result"
    }
   ],
   "source": [
    "# Problem 2\n",
    "def radius(r):\n",
    "    import math\n",
    "    return (4/3)*math.pi*r**3\n",
    "\n",
    "radius(10)\n",
    "\n"
   ]
  },
  {
   "cell_type": "code",
   "execution_count": null,
   "metadata": {},
   "outputs": [],
   "source": []
  }
 ],
 "metadata": {
  "kernelspec": {
   "display_name": "Python 3",
   "language": "python",
   "name": "python3"
  },
  "language_info": {
   "codemirror_mode": {
    "name": "ipython",
    "version": 3
   },
   "file_extension": ".py",
   "mimetype": "text/x-python",
   "name": "python",
   "nbconvert_exporter": "python",
   "pygments_lexer": "ipython3",
   "version": "3.8.12"
  }
 },
 "nbformat": 4,
 "nbformat_minor": 4
}
