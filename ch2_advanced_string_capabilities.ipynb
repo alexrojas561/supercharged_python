{
 "cells": [
  {
   "cell_type": "markdown",
   "metadata": {},
   "source": [
    "# Chapter 2: Advanced String Capabilites\n",
    "- Fill in any gaps within strings you may have\n",
    "- Take note of what is new or what needs emphasizing\n",
    "\n",
    "## 2.1 Strings are immutable\n",
    "- Advantage of immutable:\n",
    "    - Used as keys\n",
    "    - Optimized internally\n",
    "    \n",
    "## 2.2 Numeric Conversions, Including Binary"
   ]
  },
  {
   "cell_type": "code",
   "execution_count": 6,
   "metadata": {},
   "outputs": [
    {
     "name": "stdout",
     "output_type": "stream",
     "text": [
      "10001 17\n"
     ]
    }
   ],
   "source": [
    "# Int has an interesting method\n",
    "print(\n",
    "    int('10001', 10), # Base 10\n",
    "    int('10001', 2)) # Binary"
   ]
  },
  {
   "cell_type": "markdown",
   "metadata": {},
   "source": [
    "## 2.3 String Operators\n",
    "- str.casefold() --> case sensetive comparisons with Unicode character set\n",
    "- str1 != str2   --> True if different contents\n",
    "- str1 <= str2   --> True if str1 is earlier in alphabetical ordering\n",
    "- (in, not in),(is, is not) --> True if contained or not, True if same object in memory or not\n",
    "\n",
    "## 2.4 Indexing and Slicing\n",
    "- Convenience of syntax: string[beg:end]\n",
    "    - If beg and end are positive, beg-end is the max length of slice\n",
    "    - First N characters is string[:N]\n",
    "    - Last N characters is string[-N:]\n",
    "    \n",
    "## 2.6 Building Strings Using \"join\"\n",
    "- Becareful from continously creating new strings\n",
    "    - Join method can circumvent this issue\n",
    "    - Append to a list and j"
   ]
  },
  {
   "cell_type": "code",
   "execution_count": null,
   "metadata": {},
   "outputs": [],
   "source": []
  }
 ],
 "metadata": {
  "kernelspec": {
   "display_name": "Python 3",
   "language": "python",
   "name": "python3"
  },
  "language_info": {
   "codemirror_mode": {
    "name": "ipython",
    "version": 3
   },
   "file_extension": ".py",
   "mimetype": "text/x-python",
   "name": "python",
   "nbconvert_exporter": "python",
   "pygments_lexer": "ipython3",
   "version": "3.8.12"
  }
 },
 "nbformat": 4,
 "nbformat_minor": 4
}
